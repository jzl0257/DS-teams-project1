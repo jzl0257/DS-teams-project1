{
 "cells": [
  {
   "cell_type": "markdown",
   "id": "429a6979",
   "metadata": {},
   "source": [
    "# 40-modeling"
   ]
  },
  {
   "cell_type": "markdown",
   "id": "20e8bb67",
   "metadata": {},
   "source": [
    "In this notebook, we will do all of our modeling including model exporting and saving if needed."
   ]
  },
  {
   "cell_type": "code",
   "execution_count": null,
   "id": "ef2ce456",
   "metadata": {},
   "outputs": [],
   "source": []
  }
 ],
 "metadata": {
  "kernelspec": {
   "display_name": "Python 3 (ipykernel)",
   "language": "python",
   "name": "python3"
  }
 },
 "nbformat": 4,
 "nbformat_minor": 5
}
