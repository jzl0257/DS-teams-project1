{
 "cells": [
  {
   "cell_type": "markdown",
   "id": "c231b0a3",
   "metadata": {},
   "source": [
    "# 30-feature-engineering"
   ]
  },
  {
   "cell_type": "markdown",
   "id": "dee4ef42",
   "metadata": {},
   "source": [
    "In this notebook, we will do any feature engineering we deem necessary for the project or any modifications to the data that are needed for modeling. "
   ]
  },
  {
   "cell_type": "code",
   "execution_count": null,
   "id": "af6d3045",
   "metadata": {},
   "outputs": [],
   "source": []
  }
 ],
 "metadata": {
  "kernelspec": {
   "display_name": "Python 3 (ipykernel)",
   "language": "python",
   "name": "python3"
  }
 },
 "nbformat": 4,
 "nbformat_minor": 5
}
