{
 "cells": [
  {
   "cell_type": "code",
   "execution_count": 1,
   "id": "93087e32",
   "metadata": {},
   "outputs": [],
   "source": [
    "import pandas as pd\n",
    "import seaborn as sns\n",
    "import matplotlib.pyplot as plt\n",
    "from sklearn import svm\n",
    "from sklearn.metrics import roc_auc_score\n",
    "from sklearn.metrics import accuracy_score\n",
    "from sklearn.metrics import precision_score\n",
    "from sklearn.metrics import recall_score\n",
    "from sklearn.metrics import f1_score\n",
    "from sklearn.metrics import confusion_matrix"
   ]
  },
  {
   "cell_type": "code",
   "execution_count": 2,
   "id": "c80d5003",
   "metadata": {},
   "outputs": [],
   "source": [
    "# read data \n",
    "\n",
    "train_data = pd.read_csv('train_data.csv')\n",
    "test_data = pd.read_csv('test_data.csv')"
   ]
  },
  {
   "cell_type": "code",
   "execution_count": 3,
   "id": "0b8b1ae9",
   "metadata": {},
   "outputs": [],
   "source": [
    "input_data = train_data.copy()"
   ]
  },
  {
   "cell_type": "code",
   "execution_count": 4,
   "id": "ced8a5e1",
   "metadata": {},
   "outputs": [
    {
     "data": {
      "text/plain": [
       "Id                    0\n",
       "Img Id                0\n",
       "Da                    0\n",
       "Dp                    0\n",
       "FWidth                0\n",
       "FLength               0\n",
       "FThickness            0\n",
       "ELength               0\n",
       "EThickness            0\n",
       "EWidth                0\n",
       "Volume                0\n",
       "Area                  0\n",
       "Perimeter             0\n",
       "CHull  Area           0\n",
       "CHull Perimeter       0\n",
       "Sphericity            0\n",
       "L/T Ratio             0\n",
       "T/L Aspect Ratio      0\n",
       "Compactness           0\n",
       "Roundness             0\n",
       "Ellipse Ratio         0\n",
       "Circularity           0\n",
       "Solidity              0\n",
       "Concavity             0\n",
       "Convexity             0\n",
       "Extent                0\n",
       "hash                  0\n",
       "Transparency          0\n",
       "Curvature             0\n",
       "Surface Area          0\n",
       "L/W Ratio             0\n",
       "W/L Ratio             0\n",
       "W/T Ratio             0\n",
       "T/W Ratio             0\n",
       "CHull Surface Area    0\n",
       "Sieve                 0\n",
       "Angularity            0\n",
       "Ellipticity           0\n",
       "Fiber Length          0\n",
       "Fiber Width           0\n",
       "Krumbein Rnd          0\n",
       "label                 0\n",
       "dtype: int64"
      ]
     },
     "execution_count": 4,
     "metadata": {},
     "output_type": "execute_result"
    }
   ],
   "source": [
    "# null values check\n",
    "input_data.isnull().sum()"
   ]
  },
  {
   "cell_type": "code",
   "execution_count": 5,
   "id": "e30ce79e",
   "metadata": {},
   "outputs": [],
   "source": [
    "X_train = input_data.drop(columns = ['Id', 'Img Id', 'label'])\n",
    "\n",
    "y_train = input_data['label']\n",
    "\n",
    "X_test = test_data.drop(columns = ['Id', 'Img Id', 'label'])\n",
    "\n",
    "y_test = test_data['label']"
   ]
  },
  {
   "cell_type": "code",
   "execution_count": 6,
   "id": "22b920b3",
   "metadata": {},
   "outputs": [
    {
     "data": {
      "text/plain": [
       "SVC()"
      ]
     },
     "execution_count": 6,
     "metadata": {},
     "output_type": "execute_result"
    }
   ],
   "source": [
    "clf = svm.SVC()\n",
    "clf.fit(X_train, y_train) "
   ]
  },
  {
   "cell_type": "markdown",
   "id": "7e993bff",
   "metadata": {},
   "source": [
    "## Accuracy"
   ]
  },
  {
   "cell_type": "code",
   "execution_count": null,
   "id": "26b34107",
   "metadata": {},
   "outputs": [
    {
     "name": "stdout",
     "output_type": "stream",
     "text": [
      "Training Score:  0.9339427200697826\n"
     ]
    }
   ],
   "source": [
    "print(\"Training Score: \", clf.score(X_train, y_train))"
   ]
  },
  {
   "cell_type": "markdown",
   "id": "abf20413",
   "metadata": {},
   "source": [
    "## Other metrics"
   ]
  },
  {
   "cell_type": "code",
   "execution_count": null,
   "id": "4593b658",
   "metadata": {},
   "outputs": [
    {
     "name": "stdout",
     "output_type": "stream",
     "text": [
      "Precision:  0.9318760611205433\n",
      "Recall:  0.9998178423425474\n",
      "F1 score:  0.964652123289176\n"
     ]
    }
   ],
   "source": [
    "yhat_classes = clf.predict(X_test)\n",
    "\n",
    "svm_precision = precision_score(y_test, yhat_classes)\n",
    "print('Precision: ', svm_precision)\n",
    "\n",
    "svm_recall = recall_score(y_test, yhat_classes)\n",
    "print('Recall: ', svm_recall)\n",
    "\n",
    "svm_f1 = f1_score(y_test, yhat_classes)\n",
    "print('F1 score: ', svm_f1)"
   ]
  },
  {
   "cell_type": "markdown",
   "id": "9896f612",
   "metadata": {},
   "source": [
    "### Confusion matrix "
   ]
  },
  {
   "cell_type": "code",
   "execution_count": null,
   "id": "fc7e62d9",
   "metadata": {},
   "outputs": [
    {
     "data": {
      "text/plain": [
       "array([[21955,     4],\n",
       "       [ 1605,    20]])"
      ]
     },
     "execution_count": null,
     "metadata": {},
     "output_type": "execute_result"
    }
   ],
   "source": [
    "confusion_matrix(y_test, yhat_classes)"
   ]
  }
 ],
 "metadata": {
  "kernelspec": {
   "display_name": "Python 3 (ipykernel)",
   "language": "python",
   "name": "python3"
  },
  "language_info": {
   "codemirror_mode": {
    "name": "ipython",
    "version": 3
   },
   "file_extension": ".py",
   "mimetype": "text/x-python",
   "name": "python",
   "nbconvert_exporter": "python",
   "pygments_lexer": "ipython3",
   "version": "3.9.7"
  }
 },
 "nbformat": 4,
 "nbformat_minor": 5
}
